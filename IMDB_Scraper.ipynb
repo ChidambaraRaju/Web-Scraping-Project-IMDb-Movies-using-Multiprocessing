{
  "cells": [
    {
      "cell_type": "markdown",
      "metadata": {
        "id": "ZCr1bw0nroDB"
      },
      "source": [
        "## Multiprocessing Basics"
      ]
    },
    {
      "cell_type": "code",
      "execution_count": null,
      "metadata": {
        "id": "7BvPyuONqM-_"
      },
      "outputs": [],
      "source": [
        "import multiprocessing\n",
        "import time"
      ]
    },
    {
      "cell_type": "code",
      "execution_count": null,
      "metadata": {
        "id": "iJx6WXuBqRN0"
      },
      "outputs": [],
      "source": [
        "def f1(n):\n",
        "    print(\"f1 started\")\n",
        "    time.sleep(2)\n",
        "    print(\"f1 done\")\n",
        "    \n",
        "def f2(n):\n",
        "    print(\"f2 started\")\n",
        "    time.sleep(2)\n",
        "    print(\"f2 done\")\n",
        "    \n",
        "def f3(n):\n",
        "    print(\"f3 started\")\n",
        "    time.sleep(2)\n",
        "    print(\"f3 done\")"
      ]
    },
    {
      "cell_type": "code",
      "execution_count": null,
      "metadata": {
        "colab": {
          "base_uri": "https://localhost:8080/"
        },
        "id": "K17NM0vaqWv_",
        "outputId": "1eaff26f-7713-47d5-f632-85e904fe3fcb"
      },
      "outputs": [
        {
          "name": "stdout",
          "output_type": "stream",
          "text": [
            "f1 startedf2 started\n",
            "\n",
            "f3 started\n",
            "All Started\n",
            "f1 done\n",
            "f2 done\n",
            "f3 done\n"
          ]
        }
      ],
      "source": [
        "p1 = multiprocessing.Process(target=f1, args=(5,))\n",
        "p2 = multiprocessing.Process(target=f2, args=(5,))\n",
        "p3 = multiprocessing.Process(target=f3, args=(5,))\n",
        "\n",
        "p1.start()\n",
        "p2.start()\n",
        "p3.start()\n",
        "\n",
        "print('All Started')\n",
        "\n",
        "p1.join()\n",
        "p2.join()\n",
        "p3.join()"
      ]
    },
    {
      "cell_type": "markdown",
      "metadata": {
        "id": "eKQCEQZwrfK7"
      },
      "source": [
        "# IMDB Scraper using Multiprocessing\n"
      ]
    },
    {
      "cell_type": "code",
      "execution_count": null,
      "metadata": {
        "id": "uJ_yzcmnqW__"
      },
      "outputs": [],
      "source": [
        "import requests\n",
        "from bs4 import BeautifulSoup\n",
        "import numpy as np\n",
        "import pandas as pd\n",
        "import time\n",
        "import os\n",
        "from tqdm import tqdm\n",
        "import multiprocessing"
      ]
    },
    {
      "cell_type": "code",
      "execution_count": null,
      "metadata": {
        "id": "vpXpmxqUqXHH"
      },
      "outputs": [],
      "source": [
        "def download(link, file_name, no_of_movies):\n",
        "    data = []\n",
        "    res = requests.get(link)\n",
        "    soup = BeautifulSoup(res.content, 'html.parser')\n",
        "    for _ in tqdm(range(int(no_of_movies/50)+1)):\n",
        "        for movie in soup.find('div', class_ = 'lister-list').find_all('div', class_ = 'lister-item mode-advanced'):\n",
        "            try:\n",
        "                id_ = movie.find('div', class_ = 'lister-item-image float-left').find('a').get('href').split('/')[-2]\n",
        "            except:\n",
        "                id_ = np.nan\n",
        "            try:\n",
        "                movie_name = movie.find('h3', class_ = 'lister-item-header').find('a').text.strip()\n",
        "            except:\n",
        "                movie_name = np.nan\n",
        "            try:\n",
        "                year = movie.find('span', class_ = 'lister-item-year text-muted unbold').text.strip().split(' ')[-1][1:-1]\n",
        "            except:\n",
        "                year = np.nan\n",
        "            try:\n",
        "                certificate = movie.find('p', class_ = 'text-muted').find('span', class_ = 'certificate').text.strip()\n",
        "            except:\n",
        "                certificate = np.nan\n",
        "            try:\n",
        "                runtime = movie.find('p', class_ = 'text-muted').find('span', class_ = 'runtime').text.strip()\n",
        "            except:\n",
        "                runtime = np.nan\n",
        "            try:\n",
        "                genre = movie.find('p', class_ = 'text-muted').find('span', class_ = 'genre').text.strip()\n",
        "            except:\n",
        "                genre = np.nan\n",
        "            try:\n",
        "                rating = movie.find('div', class_ = 'ratings-bar').find('div', class_ = 'inline-block ratings-imdb-rating').text.strip()\n",
        "            except:\n",
        "                rating = np.nan\n",
        "            try:\n",
        "                description = movie.find_all('p', class_ = 'text-muted')[1].text.strip()\n",
        "            except:\n",
        "                description = np.nan\n",
        "            try:\n",
        "                director = \",\".join(movie.find_all('p')[2].text.strip().split('|')[0].split(\":\")[1:]).strip()\n",
        "            except:\n",
        "                director = np.nan\n",
        "            try:\n",
        "                star = \",\".join(movie.find_all('p')[2].text.strip().split('|')[1].split(\":\")[1:]).strip()\n",
        "            except:\n",
        "                star = np.nan\n",
        "            try:\n",
        "                director_id = movie.find_all('p')[2].find_all('a')[0].get('href')\n",
        "            except:\n",
        "                director_id = np.nan\n",
        "            try:\n",
        "                star_id = \",\".join([i.get('href') for i in movie.find_all('p')[2].find_all('a')[1:]])\n",
        "            except:\n",
        "                star_id = np.nan\n",
        "            try:\n",
        "                votes = int(movie.find('p', class_ = 'sort-num_votes-visible').find_all('span')[1].get('data-value'))\n",
        "            except:\n",
        "                votes = np.nan\n",
        "            try:\n",
        "                gross = int(movie.find('p', class_ = 'sort-num_votes-visible').find_all('span')[4].get('data-value').replace(',',''))\n",
        "            except:\n",
        "                gross = np.nan\n",
        "            data.append([id_, movie_name, year, certificate, runtime, genre, rating, description, \n",
        "                         director, director_id, star, star_id, votes, gross])\n",
        "        try:\n",
        "            next_page_link = 'https://www.imdb.com'+soup.find('a', class_ = 'lister-page-next next-page').get('href')\n",
        "        except:\n",
        "            pass\n",
        "        res = requests.get(next_page_link)\n",
        "        soup = BeautifulSoup(res.content, 'html.parser')\n",
        "    df = pd.DataFrame(data, columns = ['movie_id', 'movie_name', 'year', 'certificate', 'runtime', 'genre', 'rating', 'description', \n",
        "                         'director', 'director_id', 'star', 'star_id', 'votes', 'gross(in $)'])\n",
        "    df.to_csv(file_name+'.csv', index = False)"
      ]
    },
    {
      "cell_type": "code",
      "execution_count": null,
      "metadata": {
        "id": "q_AUeBA4qXNB"
      },
      "outputs": [],
      "source": [
        "p1 = multiprocessing.Process(target=download, args=('https://www.imdb.com/search/title/?genres=action&title_type=feature', 'action', 52485))\n",
        "p2 = multiprocessing.Process(target=download, args=('https://www.imdb.com/search/title/?genres=adventure&title_type=feature', 'adventure', 25666))\n",
        "p3 = multiprocessing.Process(target=download, args=('https://www.imdb.com/search/title/?genres=crime&title_type=feature', 'crime', 35856))\n",
        "p4 = multiprocessing.Process(target=download, args=('https://www.imdb.com/search/title/?genres=sci-fi&title_type=feature', 'scifi', 16561))\n",
        "p5 = multiprocessing.Process(target=download, args=('https://www.imdb.com/search/title/?genres=comedy&title_type=feature', 'comedy', 105130))\n",
        "p6 = multiprocessing.Process(target=download, args=('https://www.imdb.com/search/title/?genres=family&title_type=feature', 'family', 17091))\n",
        "p7 = multiprocessing.Process(target=download, args=('https://www.imdb.com/search/title/?genres=history&title_type=feature', 'history', 8997))\n",
        "p8 = multiprocessing.Process(target=download, args=('https://www.imdb.com/search/title/?genres=horror&title_type=feature', 'horror', 36688))\n",
        "p9 = multiprocessing.Process(target=download, args=('https://www.imdb.com/search/title/?genres=mystery&title_type=feature', 'mystery', 18963))\n",
        "p10 = multiprocessing.Process(target=download, args=('https://www.imdb.com/search/title/?genres=romance&title_type=feature', 'romance', 52415))\n",
        "p11 = multiprocessing.Process(target=download, args=('https://www.imdb.com/search/title/?genres=fantasy&title_type=feature', 'fantasy', 17167))\n",
        "p12 = multiprocessing.Process(target=download, args=('https://www.imdb.com/search/title/?genres=thriller&title_type=feature', 'thriller', 53368))\n",
        "p13 = multiprocessing.Process(target=download, args=('https://www.imdb.com/search/title/?genres=war&title_type=feature', 'war', 9911))\n",
        "\n",
        "\n",
        "p1.start()\n",
        "p2.start()\n",
        "p3.start()\n",
        "p4.start()\n",
        "p5.start()\n",
        "p6.start()\n",
        "p7.start()\n",
        "p8.start()\n",
        "p9.start()\n",
        "p10.start()\n",
        "p11.start()\n",
        "p12.start()\n",
        "p13.start()\n",
        "\n",
        "p1.join()\n",
        "p2.join()\n",
        "p3.join()\n",
        "p4.join()\n",
        "p5.join()\n",
        "p6.join()\n",
        "p7.join()\n",
        "p8.join()\n",
        "p9.join()\n",
        "p10.join()\n",
        "p11.join()\n",
        "p12.join()\n",
        "p13.join()"
      ]
    }
  ],
  "metadata": {
    "colab": {
      "provenance": []
    },
    "kernelspec": {
      "display_name": "Python 3",
      "name": "python3"
    },
    "language_info": {
      "name": "python"
    }
  },
  "nbformat": 4,
  "nbformat_minor": 0
}